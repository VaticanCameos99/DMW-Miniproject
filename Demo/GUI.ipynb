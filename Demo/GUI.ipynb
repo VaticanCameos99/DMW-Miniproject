{
 "cells": [
  {
   "cell_type": "code",
   "execution_count": 26,
   "metadata": {},
   "outputs": [],
   "source": [
    "import numpy as np # linear algebra\n",
    "import pandas as pd # data processing, CSV file I/O (e.g. pd.read_csv)\n",
    "import os\n",
    "import pickle\n",
    "from sklearn.metrics import accuracy_score, recall_score\n",
    "from sklearn.model_selection import train_test_split\n",
    "from sklearn.metrics import confusion_matrix"
   ]
  },
  {
   "cell_type": "code",
   "execution_count": 27,
   "metadata": {},
   "outputs": [],
   "source": [
    "data = pd.read_csv('zoo.csv').drop(['class_type', 'animal_name'], axis = 1)\n",
    "classes = pd.read_csv('class.csv')"
   ]
  },
  {
   "cell_type": "code",
   "execution_count": 28,
   "metadata": {},
   "outputs": [],
   "source": [
    "def load(filename):\n",
    "    #load the model\n",
    "    loaded_model = pickle.load(open(filename, 'rb'))\n",
    "    print(loaded_model)\n",
    "    return loaded_model"
   ]
  },
  {
   "cell_type": "code",
   "execution_count": 29,
   "metadata": {},
   "outputs": [],
   "source": [
    "# For single input\n",
    "def predict(inp, model): \n",
    "    d = pd.DataFrame(inp, columns = data.columns) \n",
    "    pred = model.predict(d).squeeze() \n",
    "    return classes.loc[(classes.Class_Number == pred)].Class_Type.values\n",
    "\n",
    "def predictModel():\n",
    "    inpNew = [[v1.get(),v2.get(),v3.get(),v4.get(),v5.get(),v6.get(),v7.get(),v8.get(),v9\n",
    "    .get(),v10.get(),v11.get(),v12.get(),int(c13.get()),v14.get(),v15.get(),v16.get()]]\n",
    "    \n",
    "    predictModelHelper(inpNew)"
   ]
  },
  {
   "cell_type": "code",
   "execution_count": 30,
   "metadata": {},
   "outputs": [],
   "source": [
    "def predictModelHelper(inp):\n",
    "    model = load('knnsav/knn.sav')\n",
    "    #add function to take input as a list. Example given below\n",
    "    #pass input to a function to predict the output.\n",
    "    str = 'Predicted class is:' + predict(inp, model)[0];\n",
    "    labelPredict = Label(root, text=str)\n",
    "    labelPredict.grid(row=12, column=0, columnspan=2)"
   ]
  },
  {
   "cell_type": "code",
   "execution_count": 31,
   "metadata": {},
   "outputs": [],
   "source": [
    "def predict_file(f, model):\n",
    "    data = pd.read_csv(f)\n",
    "    X = data.drop(['class_type', 'animal_name'], axis = 1)\n",
    "    y = data['class_type']\n",
    "    pred = model.predict(X)\n",
    "    cm = confusion_matrix(y, pred, labels = range(1, 8)) # output is a 2dim list\n",
    "    return cm"
   ]
  },
  {
   "cell_type": "code",
   "execution_count": 32,
   "metadata": {},
   "outputs": [],
   "source": [
    "filename=''\n",
    "def browseFiles():\n",
    "    global filename\n",
    "    filename = filedialog.askopenfilename(initialdir=\"/home/swapnil/Downloads\", title=\"Select File\",\n",
    "    filetypes=((\"CSV files\", \"*.csv*\"), (\"all files\", \"*.*\")))"
   ]
  },
  {
   "cell_type": "code",
   "execution_count": 33,
   "metadata": {},
   "outputs": [],
   "source": [
    "def show():\n",
    "    label_file_name = Label(root, text = \"File Opened: \" + filename)\n",
    "    label_file_name.grid(row=20,column=0,columnspan=2)"
   ]
  },
  {
   "cell_type": "code",
   "execution_count": 34,
   "metadata": {},
   "outputs": [],
   "source": [
    "def showCM():\n",
    "    model = load('knnsav/knn.sav')\n",
    "    print(predict_file(filename,model))"
   ]
  },
  {
   "cell_type": "code",
   "execution_count": null,
   "metadata": {},
   "outputs": [],
   "source": []
  },
  {
   "cell_type": "code",
   "execution_count": 35,
   "metadata": {},
   "outputs": [],
   "source": [
    "from tkinter import *\n",
    "from tkinter import filedialog"
   ]
  },
  {
   "cell_type": "code",
   "execution_count": 36,
   "metadata": {},
   "outputs": [
    {
     "name": "stdout",
     "output_type": "stream",
     "text": [
      "KNeighborsClassifier(leaf_size=1, n_neighbors=1)\n",
      "KNeighborsClassifier(leaf_size=1, n_neighbors=1)\n",
      "[[41  0  0  0  0  0  0]\n",
      " [ 0 20  0  0  0  0  0]\n",
      " [ 0  0  5  0  0  0  0]\n",
      " [ 0  0  0 13  0  0  0]\n",
      " [ 0  0  0  0  4  0  0]\n",
      " [ 0  0  0  0  0  8  0]\n",
      " [ 0  0  0  0  0  0 10]]\n"
     ]
    }
   ],
   "source": [
    "root = Tk()\n",
    "\n",
    "#Custom Input\n",
    "\n",
    "v1 = IntVar()\n",
    "v2 = IntVar()\n",
    "v3 = IntVar()\n",
    "v4 = IntVar()\n",
    "v5 = IntVar()\n",
    "v6 = IntVar()\n",
    "v7 = IntVar()\n",
    "v8 = IntVar()\n",
    "v9 = IntVar()\n",
    "v10 = IntVar()\n",
    "v11 = IntVar()\n",
    "v12 = IntVar()\n",
    "v14 = IntVar()\n",
    "v15 = IntVar()\n",
    "v16 = IntVar()\n",
    "\n",
    "c1 = Checkbutton(root, text = \"Has Hair?\", variable = v1, \\\n",
    "                 onvalue = 1,offvalue = 0)\n",
    "c2 = Checkbutton(root, text = \"Has Feathers?\", variable = v2, \\\n",
    "                 onvalue = 1,offvalue = 0)\n",
    "c3 = Checkbutton(root, text = \"Lays Eggs?\", variable = v3, \\\n",
    "                 onvalue = 1,offvalue = 0)\n",
    "c4 = Checkbutton(root, text = \"Produces Milk?\", variable = v4, \\\n",
    "                 onvalue = 1,offvalue = 0)\n",
    "c5 = Checkbutton(root, text = \"Does it Fly?\", variable = v5, \\\n",
    "                 onvalue = 1,offvalue = 0)\n",
    "c6 = Checkbutton(root, text = \"Is Aquatic?\", variable = v6, \\\n",
    "                 onvalue = 1,offvalue = 0)\n",
    "c7 = Checkbutton(root, text = \"Is Predator?\", variable = v7, \\\n",
    "                 onvalue = 1,offvalue = 0)\n",
    "c8 = Checkbutton(root, text = \"Has Teeth?\", variable = v8, \\\n",
    "                 onvalue = 1,offvalue = 0)\n",
    "c9 = Checkbutton(root, text = \"Has Backbone?\", variable = v9, \\\n",
    "                 onvalue = 1,offvalue = 0)\n",
    "c10 = Checkbutton(root, text = \"Does it Breathe?\", variable = v10, \\\n",
    "                 onvalue = 1,offvalue = 0)\n",
    "c11 = Checkbutton(root, text = \"Is Venomous?\", variable = v11, \\\n",
    "                 onvalue = 1,offvalue = 0)\n",
    "c12 = Checkbutton(root, text = \"Has Fins?\", variable = v12, \\\n",
    "                 onvalue = 1,offvalue = 0)\n",
    "# c13 = Checkbutton(root, text = \"Has Tail?\", variable = v1, \\\n",
    "#                  onvalue = 1,offvalue = 0)\n",
    "c14 = Checkbutton(root, text = \"Has Tail?\", variable = v14, \\\n",
    "                 onvalue = 1,offvalue = 0)\n",
    "c15 = Checkbutton(root, text = \"Is Domestic?\", variable = v15, \\\n",
    "                 onvalue = 1,offvalue = 0)\n",
    "c16 = Checkbutton(root, text = \"Is Catsize?\", variable = v16, \\\n",
    "                 onvalue = 1,offvalue = 0)\n",
    "\n",
    "c13 = Entry(root)\n",
    "c13.insert(0, 'Number of Legs')\n",
    "\n",
    "c1.grid(row=3,column=0)\n",
    "c2.grid(row=3,column=1)\n",
    "c3.grid(row=4,column=0)\n",
    "c4.grid(row=4,column=1)\n",
    "\n",
    "c5.grid(row=5,column=0)\n",
    "c6.grid(row=5,column=1)\n",
    "c7.grid(row=6,column=0)\n",
    "c8.grid(row=6,column=1)\n",
    "\n",
    "c9.grid(row=7,column=0)\n",
    "c10.grid(row=7,column=1)\n",
    "c11.grid(row=8,column=0)\n",
    "c12.grid(row=8,column=1)\n",
    "\n",
    "c14.grid(row=9,column=0)\n",
    "c15.grid(row=9,column=1)\n",
    "c16.grid(row=10,column=0)\n",
    "c13.grid(row=10,column=1, columnspan=1)\n",
    "\n",
    "myButton3 = Button(root, text=\"Predict\", command=predictModel)\n",
    "myButton3.grid(row=11,column=0, columnspan=2)\n",
    "\n",
    "# File Input\n",
    "button_file_open = Button(root, text=\"Browse File\", command=browseFiles)\n",
    "button_file_open.grid(row=19,column=0)\n",
    "\n",
    "button_file_open2 = Button(root, text=\"Show FileName\", command=show)\n",
    "button_file_open2.grid(row=19,column=1)\n",
    "\n",
    "button_predict = Button(root, text=\"Show Confusion Matrix\", command=showCM)\n",
    "button_predict.grid(row=21,column=0,columnspan=2)\n",
    "\n",
    "root.mainloop()"
   ]
  },
  {
   "cell_type": "code",
   "execution_count": null,
   "metadata": {},
   "outputs": [],
   "source": []
  }
 ],
 "metadata": {
  "kernelspec": {
   "display_name": "Python 3",
   "language": "python",
   "name": "python3"
  },
  "language_info": {
   "codemirror_mode": {
    "name": "ipython",
    "version": 3
   },
   "file_extension": ".py",
   "mimetype": "text/x-python",
   "name": "python",
   "nbconvert_exporter": "python",
   "pygments_lexer": "ipython3",
   "version": "3.8.5"
  }
 },
 "nbformat": 4,
 "nbformat_minor": 4
}
